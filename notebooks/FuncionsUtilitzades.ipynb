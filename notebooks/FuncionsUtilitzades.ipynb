{
 "cells": [
  {
   "cell_type": "markdown",
   "id": "488003b8",
   "metadata": {},
   "source": [
    "# Funcions per al notebook del Kaggle"
   ]
  },
  {
   "cell_type": "markdown",
   "id": "d33c1e50",
   "metadata": {},
   "source": [
    "Funció que utilitzem per llegir el nostre dataset."
   ]
  },
  {
   "cell_type": "code",
   "execution_count": 1,
   "id": "909224b2",
   "metadata": {},
   "outputs": [],
   "source": [
    "def load_dataset(path):\n",
    "    dataset = pd.read_csv(path, header=0, delimiter=',')\n",
    "    return dataset"
   ]
  },
  {
   "cell_type": "markdown",
   "id": "d40effab",
   "metadata": {},
   "source": [
    "Funció que utilitzem per fer les confusions matrix, aquesta funció no es meva la vaig trobar després de buscar una forma de fer una confusion matrix amb més de dos clases.\n",
    "Aquesta funció pertany a l'autor DTrimarchi10, l'enllaç al github on és troba la funció és:\n",
    "https://github.com/DTrimarchi10/confusion_matrix\n",
    "Tot i remarcar aqui les fonts d'informació i recerca de recursos per treballar el cas Kaggle, al gitHub fet per mi i haurà un fitxer amb totes les fonts que he utilitzat."
   ]
  },
  {
   "cell_type": "code",
   "execution_count": 2,
   "id": "76976965",
   "metadata": {},
   "outputs": [],
   "source": [
    "def make_confusion_matrix(cf,\n",
    "                          group_names=None,\n",
    "                          categories='auto',\n",
    "                          count=True,\n",
    "                          percent=True,\n",
    "                          cbar=True,\n",
    "                          xyticks=True,\n",
    "                          xyplotlabels=True,\n",
    "                          sum_stats=True,\n",
    "                          figsize=None,\n",
    "                          cmap='Blues',\n",
    "                          title=None):\n",
    "    '''\n",
    "    This function will make a pretty plot of an sklearn Confusion Matrix cm using a Seaborn heatmap visualization.\n",
    "    Arguments\n",
    "    ---------\n",
    "    cf:            confusion matrix to be passed in\n",
    "    group_names:   List of strings that represent the labels row by row to be shown in each square.\n",
    "    categories:    List of strings containing the categories to be displayed on the x,y axis. Default is 'auto'\n",
    "    count:         If True, show the raw number in the confusion matrix. Default is True.\n",
    "    normalize:     If True, show the proportions for each category. Default is True.\n",
    "    cbar:          If True, show the color bar. The cbar values are based off the values in the confusion matrix.\n",
    "                   Default is True.\n",
    "    xyticks:       If True, show x and y ticks. Default is True.\n",
    "    xyplotlabels:  If True, show 'True Label' and 'Predicted Label' on the figure. Default is True.\n",
    "    sum_stats:     If True, display summary statistics below the figure. Default is True.\n",
    "    figsize:       Tuple representing the figure size. Default will be the matplotlib rcParams value.\n",
    "    cmap:          Colormap of the values displayed from matplotlib.pyplot.cm. Default is 'Blues'\n",
    "                   See http://matplotlib.org/examples/color/colormaps_reference.html\n",
    "                   \n",
    "    title:         Title for the heatmap. Default is None.\n",
    "    '''\n",
    "\n",
    "\n",
    "    # CODE TO GENERATE TEXT INSIDE EACH SQUARE\n",
    "    blanks = ['' for i in range(cf.size)]\n",
    "\n",
    "    if group_names and len(group_names)==cf.size:\n",
    "        group_labels = [\"{}\\n\".format(value) for value in group_names]\n",
    "    else:\n",
    "        group_labels = blanks\n",
    "\n",
    "    if count:\n",
    "        group_counts = [\"{0:0.0f}\\n\".format(value) for value in cf.flatten()]\n",
    "    else:\n",
    "        group_counts = blanks\n",
    "\n",
    "    if percent:\n",
    "        group_percentages = [\"{0:.2%}\".format(value) for value in cf.flatten()/np.sum(cf)]\n",
    "    else:\n",
    "        group_percentages = blanks\n",
    "\n",
    "    box_labels = [f\"{v1}{v2}{v3}\".strip() for v1, v2, v3 in zip(group_labels,group_counts,group_percentages)]\n",
    "    box_labels = np.asarray(box_labels).reshape(cf.shape[0],cf.shape[1])\n",
    "\n",
    "\n",
    "    # CODE TO GENERATE SUMMARY STATISTICS & TEXT FOR SUMMARY STATS\n",
    "    if sum_stats:\n",
    "        #Accuracy is sum of diagonal divided by total observations\n",
    "        accuracy  = np.trace(cf) / float(np.sum(cf))\n",
    "\n",
    "        #if it is a binary confusion matrix, show some more stats\n",
    "        if len(cf)==2:\n",
    "            #Metrics for Binary Confusion Matrices\n",
    "            precision = cf[1,1] / sum(cf[:,1])\n",
    "            recall    = cf[1,1] / sum(cf[1,:])\n",
    "            f1_score  = 2*precision*recall / (precision + recall)\n",
    "            stats_text = \"\\n\\nAccuracy={:0.3f}\\nPrecision={:0.3f}\\nRecall={:0.3f}\\nF1 Score={:0.3f}\".format(\n",
    "                accuracy,precision,recall,f1_score)\n",
    "        else:\n",
    "            stats_text = \"\\n\\nAccuracy={:0.3f}\".format(accuracy)\n",
    "    else:\n",
    "        stats_text = \"\"\n",
    "\n",
    "\n",
    "    # SET FIGURE PARAMETERS ACCORDING TO OTHER ARGUMENTS\n",
    "    if figsize==None:\n",
    "        #Get default figure size if not set\n",
    "        figsize = plt.rcParams.get('figure.figsize')\n",
    "\n",
    "    if xyticks==False:\n",
    "        #Do not show categories if xyticks is False\n",
    "        categories=False\n",
    "\n",
    "\n",
    "    # MAKE THE HEATMAP VISUALIZATION\n",
    "    plt.figure(figsize=figsize)\n",
    "    sns.heatmap(cf,annot=box_labels,fmt=\"\",cmap=cmap,cbar=cbar,xticklabels=categories,yticklabels=categories)\n",
    "\n",
    "    if xyplotlabels:\n",
    "        plt.ylabel('True label')\n",
    "        plt.xlabel('Predicted label' + stats_text)\n",
    "    else:\n",
    "        plt.xlabel(stats_text)\n",
    "    \n",
    "    if title:\n",
    "        plt.title(title)"
   ]
  },
  {
   "cell_type": "markdown",
   "id": "2025cfd7",
   "metadata": {},
   "source": [
    "Funció creada per dibuixar la taula Precision-recall d'un model qualsevol."
   ]
  },
  {
   "cell_type": "code",
   "execution_count": 5,
   "id": "160a5a99",
   "metadata": {},
   "outputs": [],
   "source": [
    "def make_curvaP_R(precision, recall, average_precision, proba, title):\n",
    "    plt.figure()\n",
    "    for i in range(4):\n",
    "        precision[i], recall[i], _ = precision_recall_curve(y_test == i, proba[:, i])\n",
    "        average_precision[i] = average_precision_score(y_test == i, proba[:, i])\n",
    "\n",
    "        plt.plot(recall[i], precision[i],\n",
    "        label='Class {0} (AUC = {1:0.2f})'\n",
    "                               ''.format(i, average_precision[i]))\n",
    "    plt.xlabel('Recall')\n",
    "    plt.ylabel('Precision')\n",
    "    plt.legend(loc=\"lower left\")\n",
    "    plt.title(title)"
   ]
  },
  {
   "cell_type": "markdown",
   "id": "508c8310",
   "metadata": {},
   "source": [
    "Funció creada per dibuixar la taula ROC d'un model qualsevol."
   ]
  },
  {
   "cell_type": "code",
   "execution_count": 6,
   "id": "ed57aaf5",
   "metadata": {},
   "outputs": [],
   "source": [
    "def make_curva_ROC(fpr,tpr,roc_auc, proba,title):\n",
    "    for i in range(4):\n",
    "        fpr[i], tpr[i], _  = roc_curve(y_test == i, proba[:, i])\n",
    "        roc_auc[i] = auc(fpr[i], tpr[i])\n",
    "    plt.figure()\n",
    "\n",
    "    for i in range(4):\n",
    "        plt.plot(fpr[i], tpr[i], label='Class {0} (AUC = {1:0.2f})' ''.format(i, roc_auc[i]))\n",
    "\n",
    "    plt.xlabel('1-Specificity')\n",
    "    plt.ylabel('Sensitivity')\n",
    "    plt.title(title)\n",
    "    plt.legend(loc=\"lower right\")"
   ]
  }
 ],
 "metadata": {
  "kernelspec": {
   "display_name": "Python 3 (ipykernel)",
   "language": "python",
   "name": "python3"
  },
  "language_info": {
   "codemirror_mode": {
    "name": "ipython",
    "version": 3
   },
   "file_extension": ".py",
   "mimetype": "text/x-python",
   "name": "python",
   "nbconvert_exporter": "python",
   "pygments_lexer": "ipython3",
   "version": "3.9.12"
  }
 },
 "nbformat": 4,
 "nbformat_minor": 5
}
